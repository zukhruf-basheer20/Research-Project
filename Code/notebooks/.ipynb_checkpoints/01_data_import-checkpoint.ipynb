{
 "cells": [
  {
   "cell_type": "markdown",
   "id": "25f47f24-1e7c-48d7-a69c-8c25712de3f6",
   "metadata": {},
   "source": [
    "# GBIF Plant Image Fetching Notebook\n",
    "\n",
    "This notebook fetches plant images from the GBIF (Global Biodiversity Information Facility) API.\n",
    "\n",
    "We save the raw images to *../data/raw/*.  \n"
   ]
  },
  {
   "cell_type": "markdown",
   "id": "110ab05d-aa2e-40cc-9433-886e3736018e",
   "metadata": {},
   "source": [
    "#### Setup: Import Libraries and Create Target Directory\n",
    "\n",
    "This cell imports the necessary libraries and ensures the *../data/raw/* folder exists for storing raw images.\n"
   ]
  },
  {
   "cell_type": "code",
   "execution_count": 7,
   "id": "d08c228b-af3b-48a6-9ff4-028010b5ed82",
   "metadata": {},
   "outputs": [],
   "source": [
    "import os\n",
    "import requests\n",
    "from PIL import Image\n",
    "from io import BytesIO\n",
    "\n",
    "os.makedirs(\"../data/raw\", exist_ok=True)"
   ]
  },
  {
   "cell_type": "markdown",
   "id": "034b1642-743c-4d09-9723-b95baf55b6ee",
   "metadata": {},
   "source": [
    "#### Query GBIF API for Plant Occurrences\n",
    "\n",
    "This cell sends a request to the GBIF API to fetch up to 200 image-backed occurrence records for a specific taxon (in this case, *Quercus* — oaks).  \n",
    "It filters for records that include still images and valid geographic coordinates.\n"
   ]
  },
  {
   "cell_type": "code",
   "execution_count": 8,
   "id": "777ae552-9ce9-499e-838d-b66565c93b4c",
   "metadata": {},
   "outputs": [
    {
     "name": "stdout",
     "output_type": "stream",
     "text": [
      "Found 200 entries\n"
     ]
    }
   ],
   "source": [
    "url = \"https://api.gbif.org/v1/occurrence/search\"\n",
    "params = {\n",
    "    \"mediaType\": \"StillImage\",\n",
    "    \"hasCoordinate\": \"true\",\n",
    "    \"limit\": 200,\n",
    "    \"taxonKey\": 6  # Quercus (oak) — example\n",
    "}\n",
    "\n",
    "response = requests.get(url, params=params)\n",
    "data = response.json()[\"results\"]\n",
    "\n",
    "print(f\"Found {len(data)} entries\")\n"
   ]
  },
  {
   "cell_type": "markdown",
   "id": "2fe25303-07dd-4722-a6dd-96538cbd7e14",
   "metadata": {},
   "source": [
    "#### Download Images from Retrieved GBIF Entries\n",
    "\n",
    "This cell extracts image URLs from the API response and downloads each image.  \n",
    "Images are saved in *../data/raw/* as JPEGs named `leaf_<index>.jpg`.  \n",
    "It tracks how many downloads succeed or fail, printing a summary at the end.\n"
   ]
  },
  {
   "cell_type": "code",
   "execution_count": 3,
   "id": "190347ec-341b-4eaa-9603-d97ddff1db84",
   "metadata": {},
   "outputs": [
    {
     "name": "stdout",
     "output_type": "stream",
     "text": [
      "\n",
      "✅ Downloaded: 200\n",
      "❌ Failed: 0\n"
     ]
    }
   ],
   "source": [
    "success, fail = 0, 0\n",
    "image_urls = []\n",
    "\n",
    "for entry in data:\n",
    "    media = entry.get(\"media\")\n",
    "    if media:\n",
    "        image_urls.append(media[0][\"identifier\"])\n",
    "\n",
    "for i, img_url in enumerate(image_urls):\n",
    "    try:\n",
    "        response = requests.get(img_url, timeout=10)\n",
    "        img = Image.open(BytesIO(response.content)).convert(\"RGB\")\n",
    "        img.save(f\"../data/raw/leaf_{i}.jpg\")\n",
    "        success += 1\n",
    "    except Exception as e:\n",
    "        print(f\"Failed {i}: {img_url} — {e}\")\n",
    "        fail += 1\n",
    "\n",
    "print(f\"\\nDownloaded: {success}\")\n",
    "print(f\"Failed: {fail}\")\n"
   ]
  },
  {
   "cell_type": "code",
   "execution_count": null,
   "id": "893dab07-4580-4102-a0bc-ae27d87ed201",
   "metadata": {},
   "outputs": [],
   "source": []
  }
 ],
 "metadata": {
  "kernelspec": {
   "display_name": "Python 3 (ipykernel)",
   "language": "python",
   "name": "python3"
  },
  "language_info": {
   "codemirror_mode": {
    "name": "ipython",
    "version": 3
   },
   "file_extension": ".py",
   "mimetype": "text/x-python",
   "name": "python",
   "nbconvert_exporter": "python",
   "pygments_lexer": "ipython3",
   "version": "3.10.17"
  }
 },
 "nbformat": 4,
 "nbformat_minor": 5
}
